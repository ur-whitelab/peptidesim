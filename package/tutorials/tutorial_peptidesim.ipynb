{
 "cells": [
  {
   "cell_type": "markdown",
   "metadata": {},
   "source": [
    "# Peptidesim simulation"
   ]
  },
  {
   "cell_type": "markdown",
   "metadata": {},
   "source": [
    "## We will run a simulation of FF peptide with amber99sb forcefield, with tip4p water model"
   ]
  },
  {
   "cell_type": "markdown",
   "metadata": {},
   "source": [
    "### 0) For this tutorial you need a gromacs, plumed, and peptidesim installed\n",
    "\n",
    "Here is a sample bash script that needs to be run before starting the jupyter notebook\n",
    "\n",
    "```\n",
    "#!/bin/bash\n",
    "module unload python\n",
    "module load anaconda3 packmol libmatheval gromacs-plumed/2019.4/b2 openblas git\n",
    "export PYTHONNOUSERSITE=True\n",
    "export OMP_NUM_THREADS=1\n",
    "source activate your_environment \n",
    "pip install mdanalysis\n",
    "pip install nglview\n",
    "pip install moviepy==0.2.2.11\n",
    "pip install imageio==1.6\n",
    "```"
   ]
  },
  {
   "cell_type": "code",
   "execution_count": 1,
   "metadata": {},
   "outputs": [],
   "source": [
    "import peptidesim\n",
    "import textwrap\n",
    "from peptidesim import PeptideSim"
   ]
  },
  {
   "cell_type": "code",
   "execution_count": 2,
   "metadata": {},
   "outputs": [
    {
     "name": "stdout",
     "output_type": "stream",
     "text": [
      "mkdir: cannot create directory ‘/home/damirkul/tutorials’: File exists\r\n"
     ]
    }
   ],
   "source": [
    "mkdir ~/tutorials"
   ]
  },
  {
   "cell_type": "code",
   "execution_count": 3,
   "metadata": {},
   "outputs": [
    {
     "name": "stdout",
     "output_type": "stream",
     "text": [
      "/gpfs/fs1/home/damirkul/ab42_fragments/tutorials\n"
     ]
    }
   ],
   "source": [
    "cd tutorials"
   ]
  },
  {
   "cell_type": "markdown",
   "metadata": {},
   "source": [
    "### 1) Defining the peptidesim object\n",
    "* Let's create a simulation called peptide_tutorial"
   ]
  },
  {
   "cell_type": "code",
   "execution_count": 4,
   "metadata": {},
   "outputs": [],
   "source": [
    "ps = PeptideSim('peptide_tutorial', ['FF'], [1],job_name='peptide_tutorial')\n"
   ]
  },
  {
   "cell_type": "markdown",
   "metadata": {},
   "source": [
    "### 2) Changing the attributes of the object\n",
    "* change the forcefield from default (charmm27) to amber99sb\n",
    "* change the water model from tip3p to tip4p\n",
    "* change the density and concentration\n",
    "* we take advantage of parallel processes hence we will call `gmx_mpi`"
   ]
  },
  {
   "cell_type": "code",
   "execution_count": 5,
   "metadata": {},
   "outputs": [
    {
     "name": "stdout",
     "output_type": "stream",
     "text": [
      "==========PeptideSim Object==========\n",
      "box_size_nm    : [2.49963434652162, 2.499634346521621, 2.499634346521621]\n",
      "config         : {}\n",
      "config_file    : peptidesim_config.py\n",
      "counts         : [1]\n",
      "current_gro    : peptide_tutorial/peptidesim_nvt-378b483c/peptidesim_nvt.gro\n",
      "current_pdb    : peptide_tutorial/peptide_structures/dry_packed.pdb\n",
      "current_top    : peptide_tutorial/prep/pp_dry_topology.top\n",
      "current_tpr    : peptide_tutorial/prep/ion.tpr\n",
      "current_traj   : peptide_tutorial/peptidesim_nvt-378b483c/traj.trr\n",
      "demux_exe      : demux\n",
      "dir_name       : peptide_tutorial\n",
      "file_list      : ['peptide_tutorial/prep/index.ndx', 'traj.trr', 'traj.trr', 'traj.trr', 'traj.trr', 'plumed.dat', 'traj.trr', 'peptide_tutorial/prep/index.ndx', 'plumed.dat']\n",
      "forcefield     : charmm27\n",
      "ion_concentration : 0.002\n",
      "job_name       : peptide_tutorial\n",
      "log_file       : simulation.log\n",
      "mdp_base       : peptidesim_base.mdp\n",
      "mdp_directory  : .\n",
      "mdp_emin       : peptidesim_emin.mdp\n",
      "mdrun_driver   : None\n",
      "mpi_np         : 1\n",
      "mpiexec        : mpiexec\n",
      "packmol_exe    : packmol\n",
      "parent         : None\n",
      "pdb2gmx_args   : {'ignh': True}\n",
      "peptide_density : 0.02\n",
      "peptide_mass   : [312.36289999999997]\n",
      "peptide_pdb_files : ['seq_0.pdb']\n",
      "peptidesim_version : 0.4\n",
      "pressure       : 0\n",
      "req_files      : []\n",
      "run_kwargs     : {}\n",
      "sequences      : ['FF']\n",
      "sim_name       : peptidesim\n",
      "water          : tip3p\n",
      "------------Simulations--------------\n",
      "Simulation 0\n",
      "          name          : initialize-emin-378b483c\n",
      "          location      : peptide_tutorial/initialize-emin-378b483c\n",
      "          restart_count : 1\n",
      "          run_fxn       : <function call at 0x7fa32f9a6200>\n",
      "          run_kwargs    : {'args': 'mpiexec -np 1 gmx mdrun -nt 1 -o traj.trr -s initialize-emin.tpr -c initialize-emin.gro', 'shell': True}\n",
      "          metadata      : {\n",
      "              \"md-log\": \"md.log\",\n",
      "              \"mdp-data\": {\n",
      "                          \"C0001\": \"Base parameters for peptidesim\",\n",
      "                          \"constraints\": \"none\",\n",
      "                          \"coulombtype\": \"PME\",\n",
      "                          \"dispcorr\": \"enerpres\",\n",
      "                          \"emtol\": 1e-10,\n",
      "                          \"ewald-rtol\": 1e-05,\n",
      "                          \"fourierspacing\": 0.12,\n",
      "                          \"integrator\": \"steep\",\n",
      "                          \"lincs-iter\": 2,\n",
      "                          \"lincs-order\": 6,\n",
      "                          \"nstenergy\": 1,\n",
      "                          \"nsteps\": 500,\n",
      "                          \"nstlog\": 0,\n",
      "                          \"nstxout\": 1,\n",
      "                          \"pme-order\": 4,\n",
      "                          \"rlist\": 1.0\n",
      "              },\n",
      "              \"mdp-name\": \"peptidesim_emin.mdp\",\n",
      "              \"run-kwargs\": {\n",
      "                          \"c\": \"initialize-emin.gro\",\n",
      "                          \"nt\": 1,\n",
      "                          \"o\": \"traj.trr\",\n",
      "                          \"s\": \"initialize-emin.tpr\"\n",
      "              },\n",
      "              \"traj\": \"traj.trr\"\n",
      "  }\n",
      "Simulation 1\n",
      "          name          : init_emin-378b483c\n",
      "          location      : peptide_tutorial/init_emin-378b483c\n",
      "          restart_count : 1\n",
      "          run_fxn       : <function call at 0x7fa32f9a6200>\n",
      "          run_kwargs    : {'args': 'mpiexec -np 1 gmx mdrun -nt 1 -o traj.trr -s init_emin.tpr -c init_emin.gro', 'shell': True}\n",
      "          metadata      : {\n",
      "              \"md-log\": \"md.log\",\n",
      "              \"mdp-data\": {\n",
      "                          \"C0001\": \"Base parameters for peptidesim\",\n",
      "                          \"constraints\": \"none\",\n",
      "                          \"coulombtype\": \"PME\",\n",
      "                          \"dispcorr\": \"enerpres\",\n",
      "                          \"emtol\": 1e-10,\n",
      "                          \"ewald-rtol\": 1e-05,\n",
      "                          \"fourierspacing\": 0.12,\n",
      "                          \"integrator\": \"steep\",\n",
      "                          \"lincs-iter\": 2,\n",
      "                          \"lincs-order\": 6,\n",
      "                          \"nstenergy\": 1,\n",
      "                          \"nsteps\": 100,\n",
      "                          \"nstlog\": 0,\n",
      "                          \"nstxout\": 1,\n",
      "                          \"pme-order\": 4,\n",
      "                          \"rlist\": 1.0\n",
      "              },\n",
      "              \"mdp-name\": \"peptidesim_emin.mdp\",\n",
      "              \"run-kwargs\": {\n",
      "                          \"c\": \"init_emin.gro\",\n",
      "                          \"nt\": 1,\n",
      "                          \"o\": \"traj.trr\",\n",
      "                          \"s\": \"init_emin.tpr\"\n",
      "              },\n",
      "              \"traj\": \"traj.trr\"\n",
      "  }\n",
      "Simulation 2\n",
      "          name          : anneal_nvt-378b483c\n",
      "          location      : peptide_tutorial/anneal_nvt-378b483c\n",
      "          restart_count : 1\n",
      "          run_fxn       : <function call at 0x7fa32f9a6200>\n",
      "          run_kwargs    : {'args': 'mpiexec -np 1 gmx mdrun -nt 1 -o traj.trr -s anneal_nvt.tpr -c anneal_nvt.gro', 'shell': True}\n",
      "          metadata      : {\n",
      "              \"md-log\": \"md.log\",\n",
      "              \"mdp-data\": {\n",
      "                          \"B0001\": \"\",\n",
      "                          \"B0002\": \"\",\n",
      "                          \"C0001\": \"Base parameters for peptidesim\",\n",
      "                          \"annealing\": \"single\",\n",
      "                          \"annealing-npoints\": 3,\n",
      "                          \"annealing-temp\": \"[350 450 300]\",\n",
      "                          \"annealing-time\": \"[0.  2.5 5. ]\",\n",
      "                          \"constraints\": \"h-bonds\",\n",
      "                          \"coulombtype\": \"PME\",\n",
      "                          \"dispcorr\": \"enerpres\",\n",
      "                          \"dt\": 0.002,\n",
      "                          \"ewald-rtol\": 1e-05,\n",
      "                          \"fourierspacing\": 0.12,\n",
      "                          \"integrator\": \"sd\",\n",
      "                          \"lincs-iter\": 3,\n",
      "                          \"lincs-order\": 6,\n",
      "                          \"nstenergy\": 0,\n",
      "                          \"nsteps\": 100,\n",
      "                          \"nstfout\": 0,\n",
      "                          \"nstlog\": 25,\n",
      "                          \"nstvout\": 0,\n",
      "                          \"nstxout\": 25,\n",
      "                          \"pme-order\": 4,\n",
      "                          \"ref-p\": 0,\n",
      "                          \"ref-t\": 300,\n",
      "                          \"rlist\": 1.0,\n",
      "                          \"tau-t\": 2,\n",
      "                          \"tc-grps\": \"System\",\n",
      "                          \"tcoupl\": \"v-rescale\"\n",
      "              },\n",
      "              \"mdp-name\": \"peptidesim_anneal.mdp\",\n",
      "              \"run-kwargs\": {\n",
      "                          \"c\": \"anneal_nvt.gro\",\n",
      "                          \"nt\": 1,\n",
      "                          \"o\": \"traj.trr\",\n",
      "                          \"s\": \"anneal_nvt.tpr\"\n",
      "              },\n",
      "              \"traj\": \"traj.trr\"\n",
      "  }\n",
      "Simulation 3\n",
      "          name          : nvt_prod-378b483c\n",
      "          location      : peptide_tutorial/nvt_prod-378b483c\n",
      "          restart_count : 1\n",
      "          run_fxn       : <function call at 0x7fa32f9a6200>\n",
      "          run_kwargs    : {'args': 'mpiexec -np 1 gmx mdrun -nt 1 -o traj.trr -s nvt_prod.tpr -c nvt_prod.gro', 'shell': True}\n",
      "          metadata      : {\n",
      "              \"md-log\": \"md.log\",\n",
      "              \"mdp-data\": {\n",
      "                          \"B0001\": \"\",\n",
      "                          \"C0001\": \"Base parameters for peptidesim\",\n",
      "                          \"constraints\": \"h-bonds\",\n",
      "                          \"coulombtype\": \"PME\",\n",
      "                          \"dispcorr\": \"enerpres\",\n",
      "                          \"dt\": 0.002,\n",
      "                          \"ewald-rtol\": 1e-05,\n",
      "                          \"fourierspacing\": 0.12,\n",
      "                          \"integrator\": \"sd\",\n",
      "                          \"lincs-iter\": 2,\n",
      "                          \"lincs-order\": 6,\n",
      "                          \"nstenergy\": 0,\n",
      "                          \"nsteps\": 1500,\n",
      "                          \"nstfout\": 0,\n",
      "                          \"nstlog\": 1000,\n",
      "                          \"nstvout\": 0,\n",
      "                          \"nstxout\": 1000,\n",
      "                          \"pme-order\": 4,\n",
      "                          \"ref_p\": 0,\n",
      "                          \"ref_t\": 400,\n",
      "                          \"rlist\": 1.0,\n",
      "                          \"tau_t\": 2,\n",
      "                          \"tc-grps\": \"System\",\n",
      "                          \"tcoupl\": \"v-rescale\"\n",
      "              },\n",
      "              \"mdp-name\": \"peptidesim_nvt.mdp\",\n",
      "              \"run-kwargs\": {\n",
      "                          \"c\": \"nvt_prod.gro\",\n",
      "                          \"nt\": 1,\n",
      "                          \"o\": \"traj.trr\",\n",
      "                          \"s\": \"nvt_prod.tpr\"\n",
      "              },\n",
      "              \"traj\": \"traj.trr\"\n",
      "  }\n",
      "Simulation 4\n",
      "          name          : peptidesim_nvt-378b483c\n",
      "          location      : peptide_tutorial/peptidesim_nvt-378b483c\n",
      "          restart_count : 1\n",
      "          run_fxn       : <function call at 0x7fa32f9a6200>\n",
      "          run_kwargs    : {'args': 'mpiexec -np 1 gmx mdrun -plumed plumed.dat -nt 1 -o traj.trr -s peptidesim_nvt.tpr -c peptidesim_nvt.gro', 'shell': True}\n",
      "          metadata      : {\n",
      "              \"md-log\": \"md.log\",\n",
      "              \"mdp-data\": {\n",
      "                          \"B0001\": \"\",\n",
      "                          \"C0001\": \"Base parameters for peptidesim\",\n",
      "                          \"constraints\": \"h-bonds\",\n",
      "                          \"coulombtype\": \"PME\",\n",
      "                          \"dispcorr\": \"enerpres\",\n",
      "                          \"dt\": 0.002,\n",
      "                          \"ewald-rtol\": 1e-05,\n",
      "                          \"fourierspacing\": 0.12,\n",
      "                          \"integrator\": \"sd\",\n",
      "                          \"lincs-iter\": 2,\n",
      "                          \"lincs-order\": 6,\n",
      "                          \"nstenergy\": 0,\n",
      "                          \"nsteps\": 1000,\n",
      "                          \"nstfout\": 100,\n",
      "                          \"nstlog\": 100,\n",
      "                          \"nstvout\": 100,\n",
      "                          \"nstxout\": 100,\n",
      "                          \"pme-order\": 4,\n",
      "                          \"ref_p\": 0,\n",
      "                          \"ref_t\": 300,\n",
      "                          \"rlist\": 1.0,\n",
      "                          \"tau_t\": 2,\n",
      "                          \"tc-grps\": \"System\",\n",
      "                          \"tcoupl\": \"v-rescale\"\n",
      "              },\n",
      "              \"mdp-name\": \"peptidesim_nvt.mdp\",\n",
      "              \"run-kwargs\": {\n",
      "                          \"c\": \"peptidesim_nvt.gro\",\n",
      "                          \"nt\": 1,\n",
      "                          \"o\": \"traj.trr\",\n",
      "                          \"plumed\": \"plumed.dat\",\n",
      "                          \"s\": \"peptidesim_nvt.tpr\"\n",
      "              },\n",
      "              \"traj\": \"traj.trr\"\n",
      "  }\n",
      "=====================================\n"
     ]
    }
   ],
   "source": [
    "print(ps)"
   ]
  },
  {
   "cell_type": "code",
   "execution_count": 6,
   "metadata": {},
   "outputs": [],
   "source": [
    "ps.forcefield = 'amber99sb'\n",
    "ps.water = 'tip4p'\n",
    "ps.ion_concentration = 0.001  # 10mM\n",
    "ps.mpi_np=1\n",
    "ps.run_kwargs={'nt':1}"
   ]
  },
  {
   "cell_type": "markdown",
   "metadata": {},
   "source": [
    "### 3) Initialize the object"
   ]
  },
  {
   "cell_type": "code",
   "execution_count": 7,
   "metadata": {},
   "outputs": [],
   "source": [
    "ps.initialize()"
   ]
  },
  {
   "cell_type": "code",
   "execution_count": 8,
   "metadata": {},
   "outputs": [
    {
     "name": "stdout",
     "output_type": "stream",
     "text": [
      "\u001b[0m\u001b[38;5;27manneal_nvt-378b483c\u001b[0m/       \u001b[38;5;27mpeptidesim_nvt-378b483c\u001b[0m/         \u001b[38;5;27mprep\u001b[0m/\r\n",
      "\u001b[38;5;27minit_emin-378b483c\u001b[0m/        \u001b[38;5;27mpeptide_structures\u001b[0m/              \u001b[38;5;27mrestarts\u001b[0m/\r\n",
      "\u001b[38;5;27minitialize-emin-378b483c\u001b[0m/  peptide_tutorial-restart.pickle  simulation.log\r\n",
      "\u001b[38;5;27mnvt_prod-378b483c\u001b[0m/         peptide_tutorial-status.txt\r\n"
     ]
    }
   ],
   "source": [
    "ls peptide_tutorial/"
   ]
  },
  {
   "cell_type": "code",
   "execution_count": 9,
   "metadata": {},
   "outputs": [
    {
     "data": {
      "text/plain": [
       "'/gpfs/fs1/home/damirkul/ab42_fragments/tutorials'"
      ]
     },
     "execution_count": 9,
     "metadata": {},
     "output_type": "execute_result"
    }
   ],
   "source": [
    "pwd"
   ]
  },
  {
   "cell_type": "markdown",
   "metadata": {},
   "source": [
    "### 4) We will run classic set of Molecular Dynamics simulation \n",
    "*  Energy Minimizization\n",
    "\n",
    "`emtol = 1e-10\n",
    "nsteps = 100\n",
    "nstxout = 1\n",
    "nstenergy = 1\n",
    "nstlog = 0\n",
    "integrator = steep\n",
    "constraints = none`\n",
    "*  Annealing\n",
    "\n",
    "`integrator   = sd\n",
    "nstxout      = 25\n",
    "nstvout      = 0\n",
    "nstfout      = 0\n",
    "nstlog       = 25\n",
    "nstenergy    = 0\n",
    "tcoupl       = v-rescale\n",
    "tau-t        = 2\n",
    "tc-grps      = System\n",
    "ref-p        = 0\n",
    "constraints  = h-bonds\n",
    "dt           = 0.002\n",
    "annealing    = single\n",
    "ref-t        = 300\n",
    "annealing-npoints = 3\n",
    "nsteps       = 2500\n",
    "annealing-time = 0 2.5 5\n",
    "annealing-temp = 350 450 300\n",
    "lincs-iter     = 3 `\n",
    "*  NVT Production at 400K\n",
    "\n",
    "`  \n",
    "integrator   = sd\n",
    "nsteps       = 1\n",
    "dt           = 0.002\n",
    "nstxout      = 1000\n",
    "nstvout      = 0\n",
    "nstfout      = 0\n",
    "nstlog       = 1000\n",
    "nstenergy    = 0\n",
    "tcoupl       = v-rescale\n",
    "tau_t        = 2\n",
    "ref_t        = 300\n",
    "tc-grps      = System\n",
    "ref_p        = 0`"
   ]
  },
  {
   "cell_type": "code",
   "execution_count": 10,
   "metadata": {},
   "outputs": [],
   "source": [
    "ps.run(mdpfile='peptidesim_emin.mdp', tag='init_emin', mdp_kwargs={'nsteps': 10**2})\n",
    "ps.run(mdpfile='peptidesim_anneal.mdp', tag='anneal_nvt',mdp_kwargs={'nsteps': 10**2})\n",
    "ps.run(mdpfile='peptidesim_nvt.mdp', tag='nvt_prod', mdp_kwargs={'nsteps': int(3 * 5*10**2),'ref_t':400})"
   ]
  },
  {
   "cell_type": "code",
   "execution_count": 11,
   "metadata": {},
   "outputs": [
    {
     "name": "stdout",
     "output_type": "stream",
     "text": [
      "total 24336\r\n",
      "-rw-------   1 damirkul damirkul 24891900 Mar  9 13:38 traj.trr\r\n",
      "drwx------+  6 damirkul damirkul      512 Mar  9 15:00 \u001b[0m\u001b[38;5;27mpeptide_tutorial_2\u001b[0m/\r\n",
      "drwx------+ 10 damirkul damirkul    16384 Mar  9 15:19 \u001b[38;5;27mpeptide_tutorial\u001b[0m/\r\n",
      "-rw-------   1 damirkul damirkul       64 Mar  9 16:23 plumed.dat\r\n"
     ]
    }
   ],
   "source": [
    "ls -lrt"
   ]
  },
  {
   "cell_type": "code",
   "execution_count": 12,
   "metadata": {},
   "outputs": [
    {
     "name": "stdout",
     "output_type": "stream",
     "text": [
      "total 24336\r\n",
      "-rw-------   1 damirkul damirkul 24891900 Mar  9 13:38 traj.trr\r\n",
      "drwx------+  6 damirkul damirkul      512 Mar  9 15:00 \u001b[0m\u001b[38;5;27mpeptide_tutorial_2\u001b[0m/\r\n",
      "drwx------+ 10 damirkul damirkul    16384 Mar  9 15:19 \u001b[38;5;27mpeptide_tutorial\u001b[0m/\r\n",
      "-rw-------   1 damirkul damirkul       64 Mar  9 16:23 plumed.dat\r\n"
     ]
    }
   ],
   "source": [
    "ls -lrt"
   ]
  },
  {
   "cell_type": "markdown",
   "metadata": {},
   "source": [
    "## Printing the Peptide object"
   ]
  },
  {
   "cell_type": "code",
   "execution_count": 13,
   "metadata": {},
   "outputs": [
    {
     "name": "stdout",
     "output_type": "stream",
     "text": [
      "==========PeptideSim Object==========\n",
      "box_size_nm    : [2.49963434652162, 2.499634346521621, 2.499634346521621]\n",
      "config         : {}\n",
      "config_file    : peptidesim_config.py\n",
      "counts         : [1]\n",
      "current_gro    : peptide_tutorial/nvt_prod-378b483c/nvt_prod.gro\n",
      "current_pdb    : peptide_tutorial/peptide_structures/dry_packed.pdb\n",
      "current_top    : peptide_tutorial/prep/pp_dry_topology.top\n",
      "current_tpr    : peptide_tutorial/prep/ion.tpr\n",
      "current_traj   : peptide_tutorial/peptidesim_nvt-378b483c/traj.trr\n",
      "demux_exe      : demux\n",
      "dir_name       : peptide_tutorial\n",
      "file_list      : ['peptide_tutorial/prep/index.ndx', 'traj.trr', 'traj.trr', 'traj.trr', 'traj.trr', 'plumed.dat', 'traj.trr', 'peptide_tutorial/prep/index.ndx', 'plumed.dat', 'peptide_tutorial/prep/index.ndx']\n",
      "forcefield     : charmm27\n",
      "ion_concentration : 0.002\n",
      "job_name       : peptide_tutorial\n",
      "log_file       : simulation.log\n",
      "mdp_base       : peptidesim_base.mdp\n",
      "mdp_directory  : .\n",
      "mdp_emin       : peptidesim_emin.mdp\n",
      "mdrun_driver   : None\n",
      "mpi_np         : 1\n",
      "mpiexec        : mpiexec\n",
      "packmol_exe    : packmol\n",
      "parent         : None\n",
      "pdb2gmx_args   : {'ignh': True}\n",
      "peptide_density : 0.02\n",
      "peptide_mass   : [312.36289999999997]\n",
      "peptide_pdb_files : ['seq_0.pdb']\n",
      "peptidesim_version : 0.4\n",
      "pressure       : 0\n",
      "req_files      : []\n",
      "run_kwargs     : {}\n",
      "sequences      : ['FF']\n",
      "sim_name       : peptidesim\n",
      "water          : tip3p\n",
      "------------Simulations--------------\n",
      "Simulation 0\n",
      "          name          : initialize-emin-378b483c\n",
      "          location      : peptide_tutorial/initialize-emin-378b483c\n",
      "          restart_count : 1\n",
      "          run_fxn       : <function call at 0x7fa32f9a6200>\n",
      "          run_kwargs    : {'args': 'mpiexec -np 1 gmx mdrun -nt 1 -o traj.trr -s initialize-emin.tpr -c initialize-emin.gro', 'shell': True}\n",
      "          metadata      : {\n",
      "              \"md-log\": \"md.log\",\n",
      "              \"mdp-data\": {\n",
      "                          \"C0001\": \"Base parameters for peptidesim\",\n",
      "                          \"constraints\": \"none\",\n",
      "                          \"coulombtype\": \"PME\",\n",
      "                          \"dispcorr\": \"enerpres\",\n",
      "                          \"emtol\": 1e-10,\n",
      "                          \"ewald-rtol\": 1e-05,\n",
      "                          \"fourierspacing\": 0.12,\n",
      "                          \"integrator\": \"steep\",\n",
      "                          \"lincs-iter\": 2,\n",
      "                          \"lincs-order\": 6,\n",
      "                          \"nstenergy\": 1,\n",
      "                          \"nsteps\": 500,\n",
      "                          \"nstlog\": 0,\n",
      "                          \"nstxout\": 1,\n",
      "                          \"pme-order\": 4,\n",
      "                          \"rlist\": 1.0\n",
      "              },\n",
      "              \"mdp-name\": \"peptidesim_emin.mdp\",\n",
      "              \"run-kwargs\": {\n",
      "                          \"c\": \"initialize-emin.gro\",\n",
      "                          \"nt\": 1,\n",
      "                          \"o\": \"traj.trr\",\n",
      "                          \"s\": \"initialize-emin.tpr\"\n",
      "              },\n",
      "              \"traj\": \"traj.trr\"\n",
      "  }\n",
      "Simulation 1\n",
      "          name          : init_emin-378b483c\n",
      "          location      : peptide_tutorial/init_emin-378b483c\n",
      "          restart_count : 1\n",
      "          run_fxn       : <function call at 0x7fa32f9a6200>\n",
      "          run_kwargs    : {'args': 'mpiexec -np 1 gmx mdrun -nt 1 -o traj.trr -s init_emin.tpr -c init_emin.gro', 'shell': True}\n",
      "          metadata      : {\n",
      "              \"md-log\": \"md.log\",\n",
      "              \"mdp-data\": {\n",
      "                          \"C0001\": \"Base parameters for peptidesim\",\n",
      "                          \"constraints\": \"none\",\n",
      "                          \"coulombtype\": \"PME\",\n",
      "                          \"dispcorr\": \"enerpres\",\n",
      "                          \"emtol\": 1e-10,\n",
      "                          \"ewald-rtol\": 1e-05,\n",
      "                          \"fourierspacing\": 0.12,\n",
      "                          \"integrator\": \"steep\",\n",
      "                          \"lincs-iter\": 2,\n",
      "                          \"lincs-order\": 6,\n",
      "                          \"nstenergy\": 1,\n",
      "                          \"nsteps\": 100,\n",
      "                          \"nstlog\": 0,\n",
      "                          \"nstxout\": 1,\n",
      "                          \"pme-order\": 4,\n",
      "                          \"rlist\": 1.0\n",
      "              },\n",
      "              \"mdp-name\": \"peptidesim_emin.mdp\",\n",
      "              \"run-kwargs\": {\n",
      "                          \"c\": \"init_emin.gro\",\n",
      "                          \"nt\": 1,\n",
      "                          \"o\": \"traj.trr\",\n",
      "                          \"s\": \"init_emin.tpr\"\n",
      "              },\n",
      "              \"traj\": \"traj.trr\"\n",
      "  }\n",
      "Simulation 2\n",
      "          name          : anneal_nvt-378b483c\n",
      "          location      : peptide_tutorial/anneal_nvt-378b483c\n",
      "          restart_count : 1\n",
      "          run_fxn       : <function call at 0x7fa32f9a6200>\n",
      "          run_kwargs    : {'args': 'mpiexec -np 1 gmx mdrun -nt 1 -o traj.trr -s anneal_nvt.tpr -c anneal_nvt.gro', 'shell': True}\n",
      "          metadata      : {\n",
      "              \"md-log\": \"md.log\",\n",
      "              \"mdp-data\": {\n",
      "                          \"B0001\": \"\",\n",
      "                          \"B0002\": \"\",\n",
      "                          \"C0001\": \"Base parameters for peptidesim\",\n",
      "                          \"annealing\": \"single\",\n",
      "                          \"annealing-npoints\": 3,\n",
      "                          \"annealing-temp\": \"[350 450 300]\",\n",
      "                          \"annealing-time\": \"[0.  2.5 5. ]\",\n",
      "                          \"constraints\": \"h-bonds\",\n",
      "                          \"coulombtype\": \"PME\",\n",
      "                          \"dispcorr\": \"enerpres\",\n",
      "                          \"dt\": 0.002,\n",
      "                          \"ewald-rtol\": 1e-05,\n",
      "                          \"fourierspacing\": 0.12,\n",
      "                          \"integrator\": \"sd\",\n",
      "                          \"lincs-iter\": 3,\n",
      "                          \"lincs-order\": 6,\n",
      "                          \"nstenergy\": 0,\n",
      "                          \"nsteps\": 100,\n",
      "                          \"nstfout\": 0,\n",
      "                          \"nstlog\": 25,\n",
      "                          \"nstvout\": 0,\n",
      "                          \"nstxout\": 25,\n",
      "                          \"pme-order\": 4,\n",
      "                          \"ref-p\": 0,\n",
      "                          \"ref-t\": 300,\n",
      "                          \"rlist\": 1.0,\n",
      "                          \"tau-t\": 2,\n",
      "                          \"tc-grps\": \"System\",\n",
      "                          \"tcoupl\": \"v-rescale\"\n",
      "              },\n",
      "              \"mdp-name\": \"peptidesim_anneal.mdp\",\n",
      "              \"run-kwargs\": {\n",
      "                          \"c\": \"anneal_nvt.gro\",\n",
      "                          \"nt\": 1,\n",
      "                          \"o\": \"traj.trr\",\n",
      "                          \"s\": \"anneal_nvt.tpr\"\n",
      "              },\n",
      "              \"traj\": \"traj.trr\"\n",
      "  }\n",
      "Simulation 3\n",
      "          name          : nvt_prod-378b483c\n",
      "          location      : peptide_tutorial/nvt_prod-378b483c\n",
      "          restart_count : 1\n",
      "          run_fxn       : <function call at 0x7fa32f9a6200>\n",
      "          run_kwargs    : {'args': 'mpiexec -np 1 gmx mdrun -nt 1 -o traj.trr -s nvt_prod.tpr -c nvt_prod.gro', 'shell': True}\n",
      "          metadata      : {\n",
      "              \"md-log\": \"md.log\",\n",
      "              \"mdp-data\": {\n",
      "                          \"B0001\": \"\",\n",
      "                          \"C0001\": \"Base parameters for peptidesim\",\n",
      "                          \"constraints\": \"h-bonds\",\n",
      "                          \"coulombtype\": \"PME\",\n",
      "                          \"dispcorr\": \"enerpres\",\n",
      "                          \"dt\": 0.002,\n",
      "                          \"ewald-rtol\": 1e-05,\n",
      "                          \"fourierspacing\": 0.12,\n",
      "                          \"integrator\": \"sd\",\n",
      "                          \"lincs-iter\": 2,\n",
      "                          \"lincs-order\": 6,\n",
      "                          \"nstenergy\": 0,\n",
      "                          \"nsteps\": 1500,\n",
      "                          \"nstfout\": 0,\n",
      "                          \"nstlog\": 1000,\n",
      "                          \"nstvout\": 0,\n",
      "                          \"nstxout\": 1000,\n",
      "                          \"pme-order\": 4,\n",
      "                          \"ref_p\": 0,\n",
      "                          \"ref_t\": 400,\n",
      "                          \"rlist\": 1.0,\n",
      "                          \"tau_t\": 2,\n",
      "                          \"tc-grps\": \"System\",\n",
      "                          \"tcoupl\": \"v-rescale\"\n",
      "              },\n",
      "              \"mdp-name\": \"peptidesim_nvt.mdp\",\n",
      "              \"run-kwargs\": {\n",
      "                          \"c\": \"nvt_prod.gro\",\n",
      "                          \"nt\": 1,\n",
      "                          \"o\": \"traj.trr\",\n",
      "                          \"s\": \"nvt_prod.tpr\"\n",
      "              },\n",
      "              \"traj\": \"traj.trr\"\n",
      "  }\n",
      "Simulation 4\n",
      "          name          : peptidesim_nvt-378b483c\n",
      "          location      : peptide_tutorial/peptidesim_nvt-378b483c\n",
      "          restart_count : 1\n",
      "          run_fxn       : <function call at 0x7fa32f9a6200>\n",
      "          run_kwargs    : {'args': 'mpiexec -np 1 gmx mdrun -plumed plumed.dat -nt 1 -o traj.trr -s peptidesim_nvt.tpr -c peptidesim_nvt.gro', 'shell': True}\n",
      "          metadata      : {\n",
      "              \"md-log\": \"md.log\",\n",
      "              \"mdp-data\": {\n",
      "                          \"B0001\": \"\",\n",
      "                          \"C0001\": \"Base parameters for peptidesim\",\n",
      "                          \"constraints\": \"h-bonds\",\n",
      "                          \"coulombtype\": \"PME\",\n",
      "                          \"dispcorr\": \"enerpres\",\n",
      "                          \"dt\": 0.002,\n",
      "                          \"ewald-rtol\": 1e-05,\n",
      "                          \"fourierspacing\": 0.12,\n",
      "                          \"integrator\": \"sd\",\n",
      "                          \"lincs-iter\": 2,\n",
      "                          \"lincs-order\": 6,\n",
      "                          \"nstenergy\": 0,\n",
      "                          \"nsteps\": 1000,\n",
      "                          \"nstfout\": 100,\n",
      "                          \"nstlog\": 100,\n",
      "                          \"nstvout\": 100,\n",
      "                          \"nstxout\": 100,\n",
      "                          \"pme-order\": 4,\n",
      "                          \"ref_p\": 0,\n",
      "                          \"ref_t\": 300,\n",
      "                          \"rlist\": 1.0,\n",
      "                          \"tau_t\": 2,\n",
      "                          \"tc-grps\": \"System\",\n",
      "                          \"tcoupl\": \"v-rescale\"\n",
      "              },\n",
      "              \"mdp-name\": \"peptidesim_nvt.mdp\",\n",
      "              \"run-kwargs\": {\n",
      "                          \"c\": \"peptidesim_nvt.gro\",\n",
      "                          \"nt\": 1,\n",
      "                          \"o\": \"traj.trr\",\n",
      "                          \"plumed\": \"plumed.dat\",\n",
      "                          \"s\": \"peptidesim_nvt.tpr\"\n",
      "              },\n",
      "              \"traj\": \"traj.trr\"\n",
      "  }\n",
      "=====================================\n"
     ]
    }
   ],
   "source": [
    "print(ps)"
   ]
  },
  {
   "cell_type": "markdown",
   "metadata": {},
   "source": [
    "### 5) How to add a plumed script to a simulation\n",
    "* Let's compute a distance between 1st and 2nd atoms during the simulation"
   ]
  },
  {
   "cell_type": "code",
   "execution_count": 14,
   "metadata": {},
   "outputs": [],
   "source": [
    "plumed_file='plumed.dat' # name of the plumed file\n",
    "## computing the distance between atoms\n",
    "plumed_input = textwrap.dedent(\n",
    "    '''\n",
    "    DISTANCE ATOMS=1,2 LABEL=d1\n",
    "    PRINT ARG=d1 FILE=colvar STRIDE=10\n",
    "    ''')\n",
    "\n",
    "#we need to write the above string to a file\n",
    "with open(plumed_file, 'w') as f:\n",
    "    f.write(plumed_input)\n",
    "# we need to add the plumed file to a list of required files\n",
    "ps.add_file(plumed_file)\n",
    "ps.run(\n",
    "    mdpfile='peptidesim_nvt.mdp',\n",
    "    mdp_kwargs={'nsteps':1000,'nstxout':100, 'nstvout':100, 'nstfout':100, 'nstlog':100},\n",
    "    run_kwargs={\n",
    "        'plumed': plumed_file})"
   ]
  },
  {
   "cell_type": "code",
   "execution_count": 15,
   "metadata": {},
   "outputs": [
    {
     "data": {
      "text/plain": [
       "'/gpfs/fs1/home/damirkul/ab42_fragments/tutorials'"
      ]
     },
     "execution_count": 15,
     "metadata": {},
     "output_type": "execute_result"
    }
   ],
   "source": [
    "pwd\n"
   ]
  },
  {
   "cell_type": "code",
   "execution_count": 16,
   "metadata": {},
   "outputs": [
    {
     "name": "stdout",
     "output_type": "stream",
     "text": [
      "peptide_tutorial/peptidesim_nvt-378b483c\n"
     ]
    }
   ],
   "source": [
    "print(ps.sims[-1].location)"
   ]
  },
  {
   "cell_type": "code",
   "execution_count": 17,
   "metadata": {},
   "outputs": [],
   "source": [
    "### !!!change the diretory to the latest simulation folder (the output of `ps.sims[-1].location)\n",
    "\n"
   ]
  },
  {
   "cell_type": "code",
   "execution_count": 18,
   "metadata": {},
   "outputs": [
    {
     "name": "stdout",
     "output_type": "stream",
     "text": [
      "/gpfs/fs1/home/damirkul/ab42_fragments/tutorials/peptide_tutorial/peptidesim_nvt-378b483c\n"
     ]
    }
   ],
   "source": [
    "cd peptide_tutorial/peptidesim_nvt-378b483c"
   ]
  },
  {
   "cell_type": "code",
   "execution_count": 19,
   "metadata": {},
   "outputs": [
    {
     "name": "stdout",
     "output_type": "stream",
     "text": [
      "total 26704\r\n",
      "-rw-------   1 damirkul damirkul 24891900 Mar  9 13:38 #traj.trr.1#\r\n",
      "-rw-------   1 damirkul damirkul    41939 Mar  9 15:11 index.ndx\r\n",
      "-rw-------   1 damirkul damirkul    65868 Mar  9 15:19 #peptidesim_nvt.tpr.1#\r\n",
      "-rw-------   1 damirkul damirkul     1937 Mar  9 15:20 bck.0.colvar\r\n",
      "-rw-------   1 damirkul damirkul   811932 Mar  9 15:20 #traj.trr.2#\r\n",
      "-rw-------   1 damirkul damirkul   141308 Mar  9 15:20 #peptidesim_nvt.gro.1#\r\n",
      "-rw-------   1 damirkul damirkul     1412 Mar  9 15:20 #ener.edr.1#\r\n",
      "-rw-------   1 damirkul damirkul    29901 Mar  9 15:20 #md.log.1#\r\n",
      "-rw-------   1 damirkul damirkul      232 Mar  9 16:17 peptidesim_base.mdp\r\n",
      "-rw-------   1 damirkul damirkul      370 Mar  9 16:17 peptidesim_nvt.mdp\r\n",
      "-rw-------   1 damirkul damirkul    10990 Mar  9 16:17 mdout.mdp\r\n",
      "-rw-------   1 damirkul damirkul    65868 Mar  9 16:17 peptidesim_nvt.tpr\r\n",
      "-rw-------   1 damirkul damirkul     1937 Mar  9 16:17 colvar\r\n",
      "-rw-------   1 damirkul damirkul    50640 Mar  9 16:17 state.cpt\r\n",
      "-rw-------   1 damirkul damirkul    50640 Mar  9 16:17 state_prev.cpt\r\n",
      "-rw-------   1 damirkul damirkul   811932 Mar  9 16:17 traj.trr\r\n",
      "-rw-------   1 damirkul damirkul   141308 Mar  9 16:17 peptidesim_nvt.gro\r\n",
      "-rw-------   1 damirkul damirkul     1412 Mar  9 16:17 ener.edr\r\n",
      "-rw-------   1 damirkul damirkul    29902 Mar  9 16:17 md.log\r\n",
      "drwx------+ 10 damirkul damirkul    16384 Mar  9 16:21 \u001b[0m\u001b[38;5;27mpeptide_tutorial\u001b[0m/\r\n",
      "-rw-------   1 damirkul damirkul       64 Mar  9 17:09 plumed.dat\r\n"
     ]
    }
   ],
   "source": [
    "ls -lrt"
   ]
  },
  {
   "cell_type": "markdown",
   "metadata": {},
   "source": [
    "## 6) Viewing a simulation with MDAnalysis and nglview"
   ]
  },
  {
   "cell_type": "code",
   "execution_count": null,
   "metadata": {},
   "outputs": [],
   "source": [
    "import MDAnalysis as mda\n",
    "import nglview"
   ]
  },
  {
   "cell_type": "code",
   "execution_count": null,
   "metadata": {},
   "outputs": [],
   "source": [
    "\n",
    "ls -lrt"
   ]
  },
  {
   "cell_type": "code",
   "execution_count": 65,
   "metadata": {},
   "outputs": [],
   "source": [
    "### Let's load the trp and trajectory file in the last simulation "
   ]
  },
  {
   "cell_type": "code",
   "execution_count": 66,
   "metadata": {},
   "outputs": [
    {
     "data": {
      "application/vnd.jupyter.widget-view+json": {
       "model_id": "6f6baa685e894f5f9e54ce60708a4635",
       "version_major": 2,
       "version_minor": 0
      },
      "text/plain": [
       "NGLWidget(max_frame=10)"
      ]
     },
     "metadata": {},
     "output_type": "display_data"
    }
   ],
   "source": [
    "u = mda.Universe('peptidesim_nvt.tpr','traj.trr')\n",
    "#print(u)\n",
    "ag = u.select_atoms('protein')\n",
    "\n",
    "view = nglview.show_mdanalysis(ag)\n",
    "view.add_spacefill()\n",
    "\n",
    "view\n"
   ]
  },
  {
   "cell_type": "code",
   "execution_count": 67,
   "metadata": {},
   "outputs": [],
   "source": [
    "view.color_by('atomindex')"
   ]
  },
  {
   "cell_type": "code",
   "execution_count": 68,
   "metadata": {},
   "outputs": [
    {
     "data": {
      "text/plain": [
       "<nglview.contrib.movie.MovieMaker at 0x7f7d82e4e910>"
      ]
     },
     "execution_count": 68,
     "metadata": {},
     "output_type": "execute_result"
    }
   ],
   "source": [
    "from nglview.contrib.movie import MovieMaker\n",
    "movie = MovieMaker(view, output='my.gif')\n",
    "movie\n"
   ]
  },
  {
   "cell_type": "code",
   "execution_count": null,
   "metadata": {},
   "outputs": [],
   "source": []
  }
 ],
 "metadata": {
  "kernelspec": {
   "display_name": "Python 3",
   "language": "python",
   "name": "python3"
  },
  "language_info": {
   "codemirror_mode": {
    "name": "ipython",
    "version": 3
   },
   "file_extension": ".py",
   "mimetype": "text/x-python",
   "name": "python",
   "nbconvert_exporter": "python",
   "pygments_lexer": "ipython3",
   "version": "3.7.6"
  }
 },
 "nbformat": 4,
 "nbformat_minor": 4
}
